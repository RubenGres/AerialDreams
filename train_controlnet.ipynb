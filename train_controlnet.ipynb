{
  "cells": [
    {
      "cell_type": "markdown",
      "metadata": {
        "id": "view-in-github",
        "colab_type": "text"
      },
      "source": [
        "<a href=\"https://colab.research.google.com/github/RubenGres/AerialDreams/blob/main/train_controlnet.ipynb\" target=\"_parent\"><img src=\"https://colab.research.google.com/assets/colab-badge.svg\" alt=\"Open In Colab\"/></a>"
      ]
    },
    {
      "cell_type": "code",
      "source": [
        "!huggingface-cli login"
      ],
      "metadata": {
        "id": "EcZNOGG0mli9"
      },
      "execution_count": null,
      "outputs": []
    },
    {
      "cell_type": "code",
      "source": [
        "!wandb login"
      ],
      "metadata": {
        "id": "kCZaL9zaml62"
      },
      "execution_count": null,
      "outputs": []
    },
    {
      "cell_type": "markdown",
      "source": [
        "---\n"
      ],
      "metadata": {
        "id": "9Vdqw31cmopr"
      }
    },
    {
      "cell_type": "code",
      "execution_count": null,
      "metadata": {
        "id": "e6hD4xvBjF5A"
      },
      "outputs": [],
      "source": [
        "!git clone https://github.com/huggingface/diffusers/\n",
        "!git clone https://github.com/RubenGres/AerialDreams"
      ]
    },
    {
      "cell_type": "code",
      "source": [
        "%cp diffusers/examples/controlnet/train_controlnet.py train_controlnet.py\n",
        "%cp diffusers/examples/controlnet/requirements.txt requirements.txt"
      ],
      "metadata": {
        "id": "y_UplhE6mZ2W"
      },
      "execution_count": 9,
      "outputs": []
    },
    {
      "cell_type": "code",
      "execution_count": null,
      "metadata": {
        "id": "h_Nl3oGUqe48"
      },
      "outputs": [],
      "source": [
        "%pip install torch==1.13.1+cu117 torchvision==0.14.1+cu117 torchtext==0.14.1 torchaudio==0.13.1 torchdata==0.5.1 --extra-index-url https://download.pytorch.org/whl/cu117\n",
        "%pip install git+https://github.com/huggingface/diffusers.git transformers accelerate xformers==0.0.16 wandb\n",
        "%pip install bitsandbytes\n",
        "%pip install -r requirements.txt\n",
        "%pip install -r requirements.txt"
      ]
    },
    {
      "cell_type": "code",
      "execution_count": null,
      "metadata": {
        "id": "oW0aON-wnQuP"
      },
      "outputs": [],
      "source": [
        "from accelerate.utils import write_basic_config\n",
        "write_basic_config()"
      ]
    },
    {
      "cell_type": "code",
      "source": [
        "import os\n",
        "from glob import glob\n",
        "\n",
        "f = open(\"validation/prompts\")\n",
        "prompts = f.read().split('\\n')\n",
        "\n",
        "images = glob(\"validation/*.png\")\n",
        "images = [os.path.abspath(i) for i in images]"
      ],
      "metadata": {
        "id": "x01nfpNurD5h"
      },
      "execution_count": null,
      "outputs": []
    },
    {
      "cell_type": "code",
      "execution_count": null,
      "metadata": {
        "id": "0LdL6k96Pw39"
      },
      "outputs": [],
      "source": [
        "MODEL_OUT = \"modelout\"\n",
        "DATASET = \"rgres/AerialDreams\"\n",
        "\n",
        "VAL_PROMPTS = '\"' + '\" \"'.join(prompts) + '\"'\n",
        "VAL_IMAGES = '\"' + '\" \"'.join(images) + '\"'\n",
        "VAL_STEPS = 1000\n",
        "\n",
        "IMG_COL = \"image\"\n",
        "CONDITIONING_IMG_COL = \"segmentation\"\n",
        "CAPTION = \"prompt\"\n",
        "\n",
        "PROJECT_NAME = \"aerialdreams\"\n",
        "\n",
        "LEARNING_RATE=4e-6 # between 1e-4 and 2e-6\n",
        "BATCH_SIZE=5\n",
        "EPOCHS=3\n",
        "CKPT_STEPS=2000"
      ]
    },
    {
      "cell_type": "code",
      "source": [
        "!python train_controlnet.py"
      ],
      "metadata": {
        "id": "0C2m48tBnIOe"
      },
      "execution_count": null,
      "outputs": []
    },
    {
      "cell_type": "code",
      "execution_count": null,
      "metadata": {
        "id": "JEtNa4Y3mYfX"
      },
      "outputs": [],
      "source": [
        "cmd = f\"\"\"accelerate launch train_controlnet.py \\\n",
        " --pretrained_model_name_or_path=\"stabilityai/stable-diffusion-2-1-base\" \\\n",
        " --output_dir={MODEL_OUT} \\\n",
        " --dataset_name={DATASET} \\\n",
        " --conditioning_image_column={CONDITIONING_IMG_COL} \\\n",
        " --image_column={IMG_COL} \\\n",
        " --caption_column={CAPTION} \\\n",
        " --resolution=512 \\\n",
        " --learning_rate={LEARNING_RATE} \\\n",
        " --validation_image {VAL_IMAGES} \\\n",
        " --validation_prompt {VAL_PROMPTS} \\\n",
        " --validation_steps={VAL_STEPS} \\\n",
        " --train_batch_size={BATCH_SIZE} \\\n",
        " --num_train_epochs={EPOCHS} \\\n",
        " --tracker_project_name={PROJECT_NAME} \\\n",
        " --enable_xformers_memory_efficient_attention \\\n",
        " --checkpointing_steps={CKPT_STEPS} \\\n",
        " --report_to wandb \\\n",
        " --push_to_hub\n",
        "\"\"\""
      ]
    },
    {
      "cell_type": "code",
      "source": [
        "import logging\n",
        "logging.basicConfig(level=logging.INFO)\n",
        "\n",
        "text_file = open(\"launch_train.sh\", \"w\")\n",
        "text_file.write(cmd)\n",
        "text_file.close()\n",
        "\n",
        "!chmod +x launch_train.sh"
      ],
      "metadata": {
        "id": "aH7XJ9htcINy"
      },
      "execution_count": null,
      "outputs": []
    },
    {
      "cell_type": "code",
      "source": [
        "!./launch_train.sh"
      ],
      "metadata": {
        "id": "ev0I3NaZmfcq"
      },
      "execution_count": null,
      "outputs": []
    }
  ],
  "metadata": {
    "accelerator": "GPU",
    "colab": {
      "provenance": [],
      "include_colab_link": true
    },
    "gpuClass": "standard",
    "kernelspec": {
      "display_name": "Python 3",
      "name": "python3"
    },
    "language_info": {
      "name": "python"
    }
  },
  "nbformat": 4,
  "nbformat_minor": 0
}