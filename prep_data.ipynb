{
 "cells": [
  {
   "cell_type": "code",
   "execution_count": 13,
   "metadata": {},
   "outputs": [],
   "source": [
    "from tqdm import tqdm\n",
    "\n",
    "import os\n",
    "from glob import glob\n",
    "import shutil\n",
    "import json\n",
    "from osgeo import gdal, osr\n",
    "import numpy as np\n",
    "import matplotlib.pyplot as plt\n",
    "import re\n",
    "from pyproj import CRS, Transformer\n",
    "from PIL import Image\n",
    "import requests"
   ]
  },
  {
   "attachments": {},
   "cell_type": "markdown",
   "metadata": {},
   "source": [
    "### 1. Reorder the dataset files"
   ]
  },
  {
   "cell_type": "code",
   "execution_count": 1,
   "metadata": {},
   "outputs": [],
   "source": [
    "if not os.path.exists(f'./sorted'):\n",
    "    os.mkdir(f'./sorted')"
   ]
  },
  {
   "cell_type": "code",
   "execution_count": 2,
   "metadata": {},
   "outputs": [],
   "source": [
    "test_tif_img = []\n",
    "\n",
    "path = \"./data/test/flair_1_toy_aerial_test\"\n",
    "\n",
    "for file_name in glob(path+'/*/*/img/*.tif'):\n",
    "    test_tif_img.append(file_name)"
   ]
  },
  {
   "cell_type": "code",
   "execution_count": 3,
   "metadata": {},
   "outputs": [],
   "source": [
    "def convert_path_img_to_msk(path):\n",
    "    return (\n",
    "        path\n",
    "        .replace('aerial', 'labels')\n",
    "        .replace('img', 'msk')\n",
    "        .replace('IMG', 'MSK')\n",
    "    )\n",
    "\n",
    "test_tif_msk = [convert_path_img_to_msk(p) for p in test_tif_img]"
   ]
  },
  {
   "cell_type": "code",
   "execution_count": 4,
   "metadata": {},
   "outputs": [],
   "source": [
    "data_path_zip = list(zip(test_tif_msk, test_tif_img))\n",
    "for (mask, img) in data_path_zip:\n",
    "    for path in [mask, img]:\n",
    "        basename = os.path.basename(path)\n",
    "        folder = basename.split('_')[1].split('.')[0]\n",
    "\n",
    "        if not os.path.exists(f'./sorted/{folder}'):\n",
    "            os.mkdir(f'./sorted/{folder}')\n",
    "\n",
    "        shutil.copyfile(path, f'./sorted/{folder}/{basename}')"
   ]
  },
  {
   "attachments": {},
   "cell_type": "markdown",
   "metadata": {},
   "source": [
    "### 2. Function definitions"
   ]
  },
  {
   "cell_type": "code",
   "execution_count": 5,
   "metadata": {},
   "outputs": [],
   "source": [
    "LUT = [\n",
    "    {\"color\": \"#db0e9a\", \"class\": \"building\"},\n",
    "    {\"color\": \"#938e7b\", \"class\": \"pervious surface\"},\n",
    "    {\"color\": \"#f80c00\", \"class\": \"impervious surface\"},\n",
    "    {\"color\": \"#a97101\", \"class\": \"bare soil\"},\n",
    "    {\"color\": \"#1553ae\", \"class\": \"water\"},\n",
    "    {\"color\": \"#194a26\", \"class\": \"coniferous\"},\n",
    "    {\"color\": \"#46e483\", \"class\": \"deciduous\"},\n",
    "    {\"color\": \"#f3a60d\", \"class\": \"brushwood\"},\n",
    "    {\"color\": \"#660082\", \"class\": \"vineyard\"},\n",
    "    {\"color\": \"#55ff00\", \"class\": \"herbaceous vegetation\"},\n",
    "    {\"color\": \"#fff30d\", \"class\": \"agricultural land\"},\n",
    "    {\"color\": \"#e4df7c\", \"class\": \"plowed land\"},\n",
    "    {\"color\": \"#3de6eb\", \"class\": \"swimming pool\"},\n",
    "    {\"color\": \"#ffffff\", \"class\": \"snow\"},\n",
    "    {\"color\": \"#8ab3a0\", \"class\": \"clear cut\"},\n",
    "    {\"color\": \"#6b714f\", \"class\": \"mixed\"},\n",
    "    {\"color\": \"#c5dc42\", \"class\": \"ligneous\"},\n",
    "    {\"color\": \"#9999ff\", \"class\": \"greenhouse\"},\n",
    "    {\"color\": \"#000000\", \"class\": \"other\"}\n",
    "]"
   ]
  },
  {
   "cell_type": "code",
   "execution_count": 7,
   "metadata": {},
   "outputs": [],
   "source": [
    "def convert_to_seg(image_array, lut):\n",
    "    def hex_to_tuple(hex):\n",
    "        h = hex.lstrip('#')\n",
    "        return tuple(int(h[i:i+2], 16) for i in (0, 2, 4))\n",
    "\n",
    "    for i in range(image_array.shape[0]):\n",
    "        for j in range(image_array.shape[1]):\n",
    "            class_id = image_array[i, j][0]\n",
    "            \n",
    "            color = hex_to_tuple(lut[class_id-1][\"color\"]) if class_id < len(lut) else (0,0,0)\n",
    "\n",
    "            image_array[i, j] = color\n",
    "\n",
    "    # Convert the NumPy array back to an image and save it to a file\n",
    "    return image_array"
   ]
  },
  {
   "cell_type": "code",
   "execution_count": 8,
   "metadata": {},
   "outputs": [],
   "source": [
    "def get_osm_data(latlon):\n",
    "    lat, lon = latlon\n",
    "    url = f'https://nominatim.openstreetmap.org/reverse?format=json&lat={lat}&lon={lon}&zoom=18&addressdetails=1'\n",
    "    response = requests.get(url)\n",
    "    return response.json()\n",
    "\n",
    "\n",
    "def convert_to_latlon(coord, proj):\n",
    "    if not proj:\n",
    "        proj = 2154\n",
    "\n",
    "    input_crs = CRS(f\"EPSG:{proj}\")\n",
    "    wgs84_crs = CRS(\"EPSG:4326\")  # WGS 84 (latitude et longitude)\n",
    "    transformer = Transformer.from_crs(input_crs, wgs84_crs)\n",
    "    return transformer.transform(*coord)\n",
    "\n",
    "\n",
    "def tif_to_jpg(input_path, output_path, LUT):\n",
    "    input_tif = gdal.Open(input_path)\n",
    "    rgb_data = np.zeros((input_tif.RasterYSize, input_tif.RasterXSize, 3), dtype=np.uint8)\n",
    "\n",
    "    if(input_tif.RasterCount > 3):\n",
    "        for i in range(3):\n",
    "            rgb_data[..., i] = input_tif.GetRasterBand(i+1).ReadAsArray()\n",
    "    else:\n",
    "        rgb_data[..., 0] = input_tif.GetRasterBand(1).ReadAsArray()\n",
    "        rgb_data = convert_to_seg(rgb_data, LUT)\n",
    "\n",
    "    # Close input TIFF file\n",
    "    input_tif = None\n",
    "\n",
    "    img = Image.fromarray(rgb_data)\n",
    "    img.save(output_path)\n",
    "\n",
    "\n",
    "def get_tif_metadata(input_path):\n",
    "    tif_dataset = gdal.Open(input_path)\n",
    "\n",
    "    # Get the origin, dimensions, and CRS\n",
    "    geotransform = tif_dataset.GetGeoTransform()\n",
    "    name = os.path.basename(input_path)\n",
    "    origin = (geotransform[0], geotransform[3])\n",
    "    dimensions = (tif_dataset.RasterXSize, tif_dataset.RasterYSize)\n",
    "\n",
    "    # Get the CRS\n",
    "    crs_wkt = tif_dataset.GetProjection()\n",
    "    crs = osr.SpatialReference()\n",
    "    crs.ImportFromWkt(crs_wkt)\n",
    "\n",
    "    # Get the units\n",
    "    unit_type = crs.GetLinearUnitsName()\n",
    "\n",
    "    srs = osr.SpatialReference()\n",
    "    srs.ImportFromWkt(tif_dataset.GetProjection())\n",
    "    code = srs.GetAuthorityCode(None)\n",
    "\n",
    "    latlon = convert_to_latlon(origin, code)\n",
    "\n",
    "    osm_data = get_osm_data(latlon)\n",
    "\n",
    "    # Create a dictionary to store the metadata\n",
    "    metadata = {\n",
    "        \"origin\": origin,\n",
    "        \"dimensions\": dimensions,\n",
    "        \"unit_system\": unit_type,\n",
    "        \"code\": code,\n",
    "        \"latlong\": latlon,\n",
    "        **osm_data        \n",
    "    } \n",
    "\n",
    "    return metadata"
   ]
  },
  {
   "attachments": {},
   "cell_type": "markdown",
   "metadata": {},
   "source": [
    "### 3. Convert images and query metadata"
   ]
  },
  {
   "cell_type": "code",
   "execution_count": 9,
   "metadata": {},
   "outputs": [],
   "source": [
    "tifs = glob('./sorted/*/*.tif')"
   ]
  },
  {
   "cell_type": "code",
   "execution_count": 11,
   "metadata": {},
   "outputs": [
    {
     "name": "stderr",
     "output_type": "stream",
     "text": [
      "100%|██████████| 100/100 [01:36<00:00,  1.03it/s]\n"
     ]
    }
   ],
   "source": [
    "# convert image\n",
    "for tif_path in tqdm(tifs):\n",
    "    dirname = os.path.dirname(tif_path)\n",
    "    basename = os.path.basename(tif_path).split('.')[0]\n",
    "    jpg_path = f\"{dirname}/{basename}.png\"\n",
    "    tif_to_jpg(tif_path, jpg_path, LUT)"
   ]
  },
  {
   "cell_type": "code",
   "execution_count": 12,
   "metadata": {},
   "outputs": [
    {
     "name": "stderr",
     "output_type": "stream",
     "text": [
      "100%|██████████| 100/100 [00:51<00:00,  1.95it/s]\n"
     ]
    }
   ],
   "source": [
    "# get metadata\n",
    "for tif_path in tqdm(tifs):\n",
    "    dirname = os.path.dirname(tif_path)\n",
    "    basename = os.path.basename(tif_path).split('.')[0]\n",
    "\n",
    "    imgcode = basename.split('_')[1]\n",
    "    json_path = f\"{dirname}/{imgcode}.json\"\n",
    "    metadata = get_tif_metadata(tif_path)\n",
    "\n",
    "    with open(json_path, \"w\") as fp:\n",
    "        json.dump(metadata, fp)"
   ]
  }
 ],
 "metadata": {
  "kernelspec": {
   "display_name": "Python 3",
   "language": "python",
   "name": "python3"
  },
  "language_info": {
   "codemirror_mode": {
    "name": "ipython",
    "version": 3
   },
   "file_extension": ".py",
   "mimetype": "text/x-python",
   "name": "python",
   "nbconvert_exporter": "python",
   "pygments_lexer": "ipython3",
   "version": "3.9.12"
  },
  "orig_nbformat": 4,
  "vscode": {
   "interpreter": {
    "hash": "aee8b7b246df8f9039afb4144a1f6fd8d2ca17a180786b69acc140d282b71a49"
   }
  }
 },
 "nbformat": 4,
 "nbformat_minor": 2
}
